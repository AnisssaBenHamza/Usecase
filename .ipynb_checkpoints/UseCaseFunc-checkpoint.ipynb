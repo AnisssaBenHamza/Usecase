{
 "cells": [
  {
   "cell_type": "markdown",
   "id": "07dfbd38",
   "metadata": {},
   "source": [
    "These are the final models we will be using on our algorithm. "
   ]
  },
  {
   "cell_type": "code",
   "execution_count": 7,
   "id": "3dc07ae4",
   "metadata": {},
   "outputs": [],
   "source": [
    "import re\n",
    "import spacy\n",
    "from spacy.training.example import Example\n",
    "from spacy.tokens import DocBin\n",
    "from tqdm import tqdm\n",
    "import json\n",
    "import numpy as np\n",
    "import tensorflow as tf\n",
    "import tensorflow_hub as hub\n",
    "import tensorflow_text as text\n",
    "from tensorflow import keras\n",
    "import pandas as pd\n",
    "from sklearn.model_selection import train_test_split\n",
    "import sys\n",
    "import io\n",
    "import numpy as np"
   ]
  },
  {
   "cell_type": "markdown",
   "id": "96f044e0",
   "metadata": {},
   "source": [
    "Preprocess is used to normalize the input and remove any undesirable character"
   ]
  },
  {
   "cell_type": "code",
   "execution_count": 2,
   "id": "6e7de1dd",
   "metadata": {},
   "outputs": [],
   "source": [
    "def preprocess(text):\n",
    "    # Remove extra spaces\n",
    "    text = re.sub(r'\\s+', ' ', text)\n",
    "    # Remove special characters\n",
    "    text = re.sub(r'[^a-zA-Z0-9\\s]', '', text)\n",
    "    # Convert text to lowercase\n",
    "    text = text.lower()\n",
    "    # Remove punctuations and numbers\n",
    "    #text = re.sub('[^a-zA-Z]', '', text)\n",
    "    #text = re.sub('``', '', text)\n",
    "\n",
    "    return text"
   ]
  },
  {
   "cell_type": "markdown",
   "id": "94db92b3",
   "metadata": {},
   "source": [
    "NER Module: "
   ]
  },
  {
   "cell_type": "code",
   "execution_count": 3,
   "id": "cd65e4de",
   "metadata": {},
   "outputs": [],
   "source": [
    "def train_and_load_ner_model(training_data_path=\"training_NER.json\", model_output_path=\"model-best\"):\n",
    "    # Loading a new SpaCy model\n",
    "    nlp = spacy.blank(\"en\")\n",
    "\n",
    "    # Create a DocBin object\n",
    "    db = DocBin()\n",
    "\n",
    "    # Opening and loading the training data JSON file\n",
    "    with open(training_data_path) as f:\n",
    "        TRAIN_DATA = json.load(f)\n",
    "\n",
    "    for text, annot in tqdm(TRAIN_DATA['annotations']):\n",
    "        # Creating a SpaCy Doc object from the input text.\n",
    "        doc = nlp.make_doc(text)\n",
    "\n",
    "        # Creating SpaCy objects for each entity\n",
    "        ents = []\n",
    "        for start, end, label in annot[\"entities\"]:\n",
    "            span = doc.char_span(start, end, label=label, alignment_mode=\"contract\")\n",
    "            if span is None:\n",
    "                # Skipping entity if span is empty \n",
    "                print(\"Skipping entity\")\n",
    "            else:\n",
    "                # Adding the span to the list of entities\n",
    "                ents.append(span)\n",
    "        doc.ents = ents \n",
    "        db.add(doc)\n",
    "\n",
    "    # Save the DocBin object\n",
    "    db.to_disk(\"./training_data.spacy\")\n",
    "\n",
    "    # Train the model\n",
    "    ! python -m spacy train config.cfg --output ./ --paths.train ./training_data.spacy --paths.dev ./training_data.spacy\n",
    "\n",
    "    # Load the trained NER model\n",
    "    nlp_ner = spacy.load(model_output_path)\n",
    "\n",
    "    return nlp_ner\n",
    "\n",
    "\n",
    "# Example usage:\n",
    "# Train the model\n",
    "#train_ner_model(\"your_training_data.json\", \"model-best\")\n",
    "\n",
    "# Load the trained model\n",
    "#ner_model = load_ner_model(\"model-best\")\n",
    "\n",
    "def extract_entities_as_dict (input_text, nlp_model):\n",
    "    # Process the input text\n",
    "    doc = nlp_model(input_text)\n",
    "    # Create a dictionary from the entities\n",
    "    entity_dict = {}\n",
    "    for ent in doc.ents:\n",
    "        entity_dict[ent.text] = ent.label_\n",
    "\n",
    "    return entity_dict"
   ]
  },
  {
   "cell_type": "markdown",
   "id": "851a2755",
   "metadata": {},
   "source": [
    "Sentiment Analysis Module"
   ]
  },
  {
   "cell_type": "code",
   "execution_count": 9,
   "id": "ceb735a0",
   "metadata": {},
   "outputs": [],
   "source": [
    "def train_sentiment_model(data_path=\"Restaurant_Reviews.csv\"):\n",
    "    df = pd.read_csv(data_path, encoding='ISO-8859-1')\n",
    "    df['Review'] = df['Review'].apply(preprocess)\n",
    "\n",
    "    X_train, X_test, y_train, y_test = train_test_split(df['Review'], df['Liked'], test_size=0.20, random_state=42)\n",
    "\n",
    "    bert_preprocess = hub.KerasLayer(\"https://tfhub.dev/tensorflow/bert_en_uncased_preprocess/3\")\n",
    "    bert_encoder = hub.KerasLayer(\"https://tfhub.dev/tensorflow/bert_en_uncased_L-12_H-768_A-12/4\")\n",
    "\n",
    "    def get_sentence_embedding(sentences):\n",
    "        preprocessed_text = bert_preprocess(sentences)\n",
    "        return bert_encoder(preprocessed_text)['pooled_output']\n",
    "\n",
    "    # Define the model\n",
    "    text_input = tf.keras.layers.Input(shape=(), dtype=tf.string, name='text')\n",
    "    preprocessed_text = bert_preprocess(text_input)\n",
    "    outputs = bert_encoder(preprocessed_text)\n",
    "\n",
    "    reshaped_output = tf.keras.layers.Reshape((-1, outputs['pooled_output'].shape[-1]))(outputs['pooled_output'])\n",
    "    lstm_output = tf.keras.layers.LSTM(64, name='lstm')(reshaped_output)\n",
    "    dropout = tf.keras.layers.Dropout(0.1, name=\"dropout\")(lstm_output)\n",
    "    output = tf.keras.layers.Dense(1, activation='sigmoid', name=\"output\")(dropout)\n",
    "\n",
    "    model = tf.keras.Model(inputs=[text_input], outputs=[output])\n",
    "\n",
    "    METRICS = [\n",
    "        tf.keras.metrics.BinaryAccuracy(name='accuracy'),\n",
    "        tf.keras.metrics.Precision(name='precision'),\n",
    "        tf.keras.metrics.Recall(name='recall')\n",
    "    ]\n",
    "\n",
    "    model.compile(optimizer=tf.keras.optimizers.Adam(learning_rate=1e-5),\n",
    "                  loss='binary_crossentropy',\n",
    "                  metrics=METRICS)\n",
    "\n",
    "    model.fit(X_train, y_train, epochs=10)\n",
    "    model.evaluate(X_test, y_test)\n",
    "    y_predicted = model.predict(X_test)\n",
    "    y_predicted = y_predicted.flatten()\n",
    "    y_pred = np.where(y_predicted>=0.5, 1 ,0)               \n",
    "\n",
    "    return model\n",
    "\n",
    "\n"
   ]
  },
  {
   "cell_type": "code",
   "execution_count": 12,
   "id": "a9e2388f",
   "metadata": {},
   "outputs": [],
   "source": [
    "def predict_sentiment(reviews, trained_model):\n",
    "    # Suppress output during prediction\n",
    "    original_stdout = sys.stdout\n",
    "    sys.stdout = io.StringIO()\n",
    "\n",
    "    predictions = trained_model.predict(reviews)\n",
    "\n",
    "    # Reset standard output\n",
    "    sys.stdout = original_stdout\n",
    "\n",
    "    binary_predictions = np.where(predictions <= 0.5, 0, 1)\n",
    "    return binary_predictions\n"
   ]
  }
 ],
 "metadata": {
  "kernelspec": {
   "display_name": "Python 3 (ipykernel)",
   "language": "python",
   "name": "python3"
  },
  "language_info": {
   "codemirror_mode": {
    "name": "ipython",
    "version": 3
   },
   "file_extension": ".py",
   "mimetype": "text/x-python",
   "name": "python",
   "nbconvert_exporter": "python",
   "pygments_lexer": "ipython3",
   "version": "3.7.16"
  }
 },
 "nbformat": 4,
 "nbformat_minor": 5
}
