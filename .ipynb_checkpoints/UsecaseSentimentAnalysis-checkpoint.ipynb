{
 "cells": [
  {
   "cell_type": "markdown",
   "id": "6bfcd6ff",
   "metadata": {},
   "source": [
    "This notebook is to experiment with the sentiment analysis model and fine tuned before deciding on the final model to use on our algorithms"
   ]
  },
  {
   "cell_type": "code",
   "execution_count": 1,
   "id": "542ddc4f",
   "metadata": {},
   "outputs": [],
   "source": [
    "import tensorflow as tf\n",
    "import tensorflow_hub as hub\n",
    "import tensorflow_text as text\n",
    "from tensorflow import keras\n",
    "import pandas as pd\n"
   ]
  },
  {
   "cell_type": "code",
   "execution_count": 2,
   "id": "2ce17fd7",
   "metadata": {},
   "outputs": [
    {
     "data": {
      "text/html": [
       "<div>\n",
       "<style scoped>\n",
       "    .dataframe tbody tr th:only-of-type {\n",
       "        vertical-align: middle;\n",
       "    }\n",
       "\n",
       "    .dataframe tbody tr th {\n",
       "        vertical-align: top;\n",
       "    }\n",
       "\n",
       "    .dataframe thead th {\n",
       "        text-align: right;\n",
       "    }\n",
       "</style>\n",
       "<table border=\"1\" class=\"dataframe\">\n",
       "  <thead>\n",
       "    <tr style=\"text-align: right;\">\n",
       "      <th></th>\n",
       "      <th>Review</th>\n",
       "      <th>Liked</th>\n",
       "    </tr>\n",
       "  </thead>\n",
       "  <tbody>\n",
       "    <tr>\n",
       "      <th>0</th>\n",
       "      <td>Wow... Loved this place.</td>\n",
       "      <td>1</td>\n",
       "    </tr>\n",
       "    <tr>\n",
       "      <th>1</th>\n",
       "      <td>Crust is not good.</td>\n",
       "      <td>0</td>\n",
       "    </tr>\n",
       "    <tr>\n",
       "      <th>2</th>\n",
       "      <td>Not tasty and the texture was just nasty.</td>\n",
       "      <td>0</td>\n",
       "    </tr>\n",
       "    <tr>\n",
       "      <th>3</th>\n",
       "      <td>Stopped by during the late May bank holiday of...</td>\n",
       "      <td>1</td>\n",
       "    </tr>\n",
       "    <tr>\n",
       "      <th>4</th>\n",
       "      <td>The selection on the menu was great and so wer...</td>\n",
       "      <td>1</td>\n",
       "    </tr>\n",
       "  </tbody>\n",
       "</table>\n",
       "</div>"
      ],
      "text/plain": [
       "                                              Review  Liked\n",
       "0                           Wow... Loved this place.      1\n",
       "1                                 Crust is not good.      0\n",
       "2          Not tasty and the texture was just nasty.      0\n",
       "3  Stopped by during the late May bank holiday of...      1\n",
       "4  The selection on the menu was great and so wer...      1"
      ]
     },
     "execution_count": 2,
     "metadata": {},
     "output_type": "execute_result"
    }
   ],
   "source": [
    "df = pd.read_csv(\"Restaurant_Reviews.csv\", encoding='ISO-8859-1')\n",
    "df.head(5)"
   ]
  },
  {
   "cell_type": "code",
   "execution_count": 3,
   "id": "d758ddea",
   "metadata": {},
   "outputs": [
    {
     "data": {
      "text/html": [
       "<div>\n",
       "<style scoped>\n",
       "    .dataframe tbody tr th:only-of-type {\n",
       "        vertical-align: middle;\n",
       "    }\n",
       "\n",
       "    .dataframe tbody tr th {\n",
       "        vertical-align: top;\n",
       "    }\n",
       "\n",
       "    .dataframe thead tr th {\n",
       "        text-align: left;\n",
       "    }\n",
       "\n",
       "    .dataframe thead tr:last-of-type th {\n",
       "        text-align: right;\n",
       "    }\n",
       "</style>\n",
       "<table border=\"1\" class=\"dataframe\">\n",
       "  <thead>\n",
       "    <tr>\n",
       "      <th></th>\n",
       "      <th colspan=\"4\" halign=\"left\">Review</th>\n",
       "    </tr>\n",
       "    <tr>\n",
       "      <th></th>\n",
       "      <th>count</th>\n",
       "      <th>unique</th>\n",
       "      <th>top</th>\n",
       "      <th>freq</th>\n",
       "    </tr>\n",
       "    <tr>\n",
       "      <th>Liked</th>\n",
       "      <th></th>\n",
       "      <th></th>\n",
       "      <th></th>\n",
       "      <th></th>\n",
       "    </tr>\n",
       "  </thead>\n",
       "  <tbody>\n",
       "    <tr>\n",
       "      <th>0</th>\n",
       "      <td>500</td>\n",
       "      <td>497</td>\n",
       "      <td>The food was terrible.</td>\n",
       "      <td>2</td>\n",
       "    </tr>\n",
       "    <tr>\n",
       "      <th>1</th>\n",
       "      <td>500</td>\n",
       "      <td>499</td>\n",
       "      <td>I love this place.</td>\n",
       "      <td>2</td>\n",
       "    </tr>\n",
       "  </tbody>\n",
       "</table>\n",
       "</div>"
      ],
      "text/plain": [
       "      Review                                    \n",
       "       count unique                     top freq\n",
       "Liked                                           \n",
       "0        500    497  The food was terrible.    2\n",
       "1        500    499      I love this place.    2"
      ]
     },
     "execution_count": 3,
     "metadata": {},
     "output_type": "execute_result"
    }
   ],
   "source": [
    "df.groupby('Liked').describe()"
   ]
  },
  {
   "cell_type": "code",
   "execution_count": 4,
   "id": "ba46af00",
   "metadata": {},
   "outputs": [
    {
     "data": {
      "text/plain": [
       "1    500\n",
       "0    500\n",
       "Name: Liked, dtype: int64"
      ]
     },
     "execution_count": 4,
     "metadata": {},
     "output_type": "execute_result"
    }
   ],
   "source": [
    "df['Liked'].value_counts()"
   ]
  },
  {
   "cell_type": "code",
   "execution_count": 1,
   "id": "9efe5b85",
   "metadata": {},
   "outputs": [],
   "source": [
    "import re\n",
    "#import nltk\n",
    "#from nltk.corpus import stopwords\n",
    "\n",
    "def preprocess(text):\n",
    "    # Remove extra spaces\n",
    "    text = re.sub(r'\\s+', ' ', text)\n",
    "    # Remove special characters\n",
    "    text = re.sub(r'[^a-zA-Z0-9\\s]', '', text)\n",
    "    # Convert text to lowercase\n",
    "    text = text.lower()\n",
    "    # Remove punctuations and numbers\n",
    "    #text = re.sub('[^a-zA-Z]', '', text)\n",
    "    #text = re.sub('``', '', text)\n",
    "\n",
    "    return text\n"
   ]
  },
  {
   "cell_type": "code",
   "execution_count": 6,
   "id": "528fda4f",
   "metadata": {},
   "outputs": [],
   "source": [
    "df['Review']=df['Review'].apply(preprocess)"
   ]
  },
  {
   "cell_type": "code",
   "execution_count": 7,
   "id": "f1b1bee9",
   "metadata": {},
   "outputs": [
    {
     "data": {
      "text/html": [
       "<div>\n",
       "<style scoped>\n",
       "    .dataframe tbody tr th:only-of-type {\n",
       "        vertical-align: middle;\n",
       "    }\n",
       "\n",
       "    .dataframe tbody tr th {\n",
       "        vertical-align: top;\n",
       "    }\n",
       "\n",
       "    .dataframe thead th {\n",
       "        text-align: right;\n",
       "    }\n",
       "</style>\n",
       "<table border=\"1\" class=\"dataframe\">\n",
       "  <thead>\n",
       "    <tr style=\"text-align: right;\">\n",
       "      <th></th>\n",
       "      <th>Review</th>\n",
       "      <th>Liked</th>\n",
       "    </tr>\n",
       "  </thead>\n",
       "  <tbody>\n",
       "    <tr>\n",
       "      <th>0</th>\n",
       "      <td>wow loved this place</td>\n",
       "      <td>1</td>\n",
       "    </tr>\n",
       "    <tr>\n",
       "      <th>1</th>\n",
       "      <td>crust is not good</td>\n",
       "      <td>0</td>\n",
       "    </tr>\n",
       "    <tr>\n",
       "      <th>2</th>\n",
       "      <td>not tasty and the texture was just nasty</td>\n",
       "      <td>0</td>\n",
       "    </tr>\n",
       "    <tr>\n",
       "      <th>3</th>\n",
       "      <td>stopped by during the late may bank holiday of...</td>\n",
       "      <td>1</td>\n",
       "    </tr>\n",
       "    <tr>\n",
       "      <th>4</th>\n",
       "      <td>the selection on the menu was great and so wer...</td>\n",
       "      <td>1</td>\n",
       "    </tr>\n",
       "  </tbody>\n",
       "</table>\n",
       "</div>"
      ],
      "text/plain": [
       "                                              Review  Liked\n",
       "0                               wow loved this place      1\n",
       "1                                  crust is not good      0\n",
       "2           not tasty and the texture was just nasty      0\n",
       "3  stopped by during the late may bank holiday of...      1\n",
       "4  the selection on the menu was great and so wer...      1"
      ]
     },
     "execution_count": 7,
     "metadata": {},
     "output_type": "execute_result"
    }
   ],
   "source": [
    "df.head()"
   ]
  },
  {
   "cell_type": "code",
   "execution_count": 103,
   "id": "842b7755",
   "metadata": {},
   "outputs": [],
   "source": [
    "from sklearn.model_selection import train_test_split\n",
    "\n",
    "X_train, X_test, y_train, y_test = train_test_split(df['Review'],df['Liked'], test_size=0.20, random_state=42)# stratify=df['Liked']) # test_size=0.20, random_state=42)"
   ]
  },
  {
   "cell_type": "code",
   "execution_count": 104,
   "id": "4dc72cb8",
   "metadata": {},
   "outputs": [
    {
     "data": {
      "text/plain": [
       "29                      the worst was the salmon sashimi\n",
       "535    an excellent new restaurant by an experienced ...\n",
       "695                     went for lunch  service was slow\n",
       "557    i think this restaurant suffers from not tryin...\n",
       "836       just had lunch here and had a great experience\n",
       "596         i got home to see the driest damn wings ever\n",
       "165                                            delicious\n",
       "918    they brought a fresh batch of fries and i was ...\n",
       "495                              and then tragedy struck\n",
       "824                                        awful service\n",
       "Name: Review, dtype: object"
      ]
     },
     "execution_count": 104,
     "metadata": {},
     "output_type": "execute_result"
    }
   ],
   "source": [
    "X_train.head(10)"
   ]
  },
  {
   "cell_type": "code",
   "execution_count": 10,
   "id": "ea1e3cee",
   "metadata": {},
   "outputs": [],
   "source": [
    "bert_preprocess = hub.KerasLayer(\"https://tfhub.dev/tensorflow/bert_en_uncased_preprocess/3\")\n",
    "bert_encoder = hub.KerasLayer(\"https://tfhub.dev/tensorflow/bert_en_uncased_L-12_H-768_A-12/4\")"
   ]
  },
  {
   "cell_type": "code",
   "execution_count": 105,
   "id": "868caf79",
   "metadata": {},
   "outputs": [],
   "source": [
    "def get_sentence_embeding(sentences):\n",
    "    preprocessed_text = bert_preprocess(sentences)\n",
    "    return bert_encoder(preprocessed_text)['pooled_output']"
   ]
  },
  {
   "cell_type": "code",
   "execution_count": 2,
   "id": "a5692535",
   "metadata": {},
   "outputs": [
    {
     "ename": "NameError",
     "evalue": "name 'bert_preprocess' is not defined",
     "output_type": "error",
     "traceback": [
      "\u001b[1;31m---------------------------------------------------------------------------\u001b[0m",
      "\u001b[1;31mNameError\u001b[0m                                 Traceback (most recent call last)",
      "\u001b[1;32m~\\AppData\\Local\\Temp\\ipykernel_19180\\52583459.py\u001b[0m in \u001b[0;36m<module>\u001b[1;34m\u001b[0m\n\u001b[0;32m      1\u001b[0m \u001b[1;31m# Bert layers\u001b[0m\u001b[1;33m\u001b[0m\u001b[1;33m\u001b[0m\u001b[1;33m\u001b[0m\u001b[0m\n\u001b[0;32m      2\u001b[0m \u001b[0mtext_input\u001b[0m \u001b[1;33m=\u001b[0m \u001b[0mtf\u001b[0m\u001b[1;33m.\u001b[0m\u001b[0mkeras\u001b[0m\u001b[1;33m.\u001b[0m\u001b[0mlayers\u001b[0m\u001b[1;33m.\u001b[0m\u001b[0mInput\u001b[0m\u001b[1;33m(\u001b[0m\u001b[0mshape\u001b[0m\u001b[1;33m=\u001b[0m\u001b[1;33m(\u001b[0m\u001b[1;33m)\u001b[0m\u001b[1;33m,\u001b[0m \u001b[0mdtype\u001b[0m\u001b[1;33m=\u001b[0m\u001b[0mtf\u001b[0m\u001b[1;33m.\u001b[0m\u001b[0mstring\u001b[0m\u001b[1;33m,\u001b[0m \u001b[0mname\u001b[0m\u001b[1;33m=\u001b[0m\u001b[1;34m'text'\u001b[0m\u001b[1;33m)\u001b[0m\u001b[1;33m\u001b[0m\u001b[1;33m\u001b[0m\u001b[0m\n\u001b[1;32m----> 3\u001b[1;33m \u001b[0mpreprocessed_text\u001b[0m \u001b[1;33m=\u001b[0m \u001b[0mbert_preprocess\u001b[0m\u001b[1;33m(\u001b[0m\u001b[0mtext_input\u001b[0m\u001b[1;33m)\u001b[0m\u001b[1;33m\u001b[0m\u001b[1;33m\u001b[0m\u001b[0m\n\u001b[0m\u001b[0;32m      4\u001b[0m \u001b[0moutputs\u001b[0m \u001b[1;33m=\u001b[0m \u001b[0mbert_encoder\u001b[0m\u001b[1;33m(\u001b[0m\u001b[0mpreprocessed_text\u001b[0m\u001b[1;33m)\u001b[0m\u001b[1;33m\u001b[0m\u001b[1;33m\u001b[0m\u001b[0m\n\u001b[0;32m      5\u001b[0m \u001b[1;33m\u001b[0m\u001b[0m\n",
      "\u001b[1;31mNameError\u001b[0m: name 'bert_preprocess' is not defined"
     ]
    }
   ],
   "source": [
    "# Bert layers\n",
    "text_input = tf.keras.layers.Input(shape=(), dtype=tf.string, name='text')\n",
    "preprocessed_text = bert_preprocess(text_input)\n",
    "outputs = bert_encoder(preprocessed_text)\n",
    "\n",
    "# Add an LSTM layer\n",
    "reshaped_output = tf.keras.layers.Reshape((-1, outputs['pooled_output'].shape[-1]))(outputs['pooled_output'])\n",
    "lstm_output = tf.keras.layers.LSTM(64, name='lstm')(reshaped_output)\n",
    "\n",
    "# Neural network layers with LSTM for binary categorization\n",
    "dropout = tf.keras.layers.Dropout(0.1, name=\"dropout\")(lstm_output)\n",
    "output = tf.keras.layers.Dense(1, activation='sigmoid', name=\"output\")(dropout)\n",
    "\n",
    "# Use inputs and outputs to construct the final model\n",
    "model = tf.keras.Model(inputs=[text_input], outputs=[output])"
   ]
  },
  {
   "cell_type": "code",
   "execution_count": 118,
   "id": "958b1d11",
   "metadata": {},
   "outputs": [
    {
     "name": "stdout",
     "output_type": "stream",
     "text": [
      "Model: \"model_7\"\n",
      "__________________________________________________________________________________________________\n",
      " Layer (type)                   Output Shape         Param #     Connected to                     \n",
      "==================================================================================================\n",
      " text (InputLayer)              [(None,)]            0           []                               \n",
      "                                                                                                  \n",
      " keras_layer (KerasLayer)       {'input_type_ids':   0           ['text[0][0]']                   \n",
      "                                (None, 128),                                                      \n",
      "                                 'input_mask': (Non                                               \n",
      "                                e, 128),                                                          \n",
      "                                 'input_word_ids':                                                \n",
      "                                (None, 128)}                                                      \n",
      "                                                                                                  \n",
      " keras_layer_1 (KerasLayer)     {'pooled_output': (  109482241   ['keras_layer[8][0]',            \n",
      "                                None, 768),                       'keras_layer[8][1]',            \n",
      "                                 'sequence_output':               'keras_layer[8][2]']            \n",
      "                                 (None, 128, 768),                                                \n",
      "                                 'encoder_outputs':                                               \n",
      "                                 [(None, 128, 768),                                               \n",
      "                                 (None, 128, 768),                                                \n",
      "                                 (None, 128, 768),                                                \n",
      "                                 (None, 128, 768),                                                \n",
      "                                 (None, 128, 768),                                                \n",
      "                                 (None, 128, 768),                                                \n",
      "                                 (None, 128, 768),                                                \n",
      "                                 (None, 128, 768),                                                \n",
      "                                 (None, 128, 768),                                                \n",
      "                                 (None, 128, 768),                                                \n",
      "                                 (None, 128, 768),                                                \n",
      "                                 (None, 128, 768)],                                               \n",
      "                                 'default': (None,                                                \n",
      "                                768)}                                                             \n",
      "                                                                                                  \n",
      " reshape (Reshape)              (None, 1, 768)       0           ['keras_layer_1[8][13]']         \n",
      "                                                                                                  \n",
      " lstm (LSTM)                    (None, 64)           213248      ['reshape[0][0]']                \n",
      "                                                                                                  \n",
      " dropout (Dropout)              (None, 64)           0           ['lstm[0][0]']                   \n",
      "                                                                                                  \n",
      " output (Dense)                 (None, 1)            65          ['dropout[0][0]']                \n",
      "                                                                                                  \n",
      "==================================================================================================\n",
      "Total params: 109,695,554\n",
      "Trainable params: 213,313\n",
      "Non-trainable params: 109,482,241\n",
      "__________________________________________________________________________________________________\n"
     ]
    }
   ],
   "source": [
    "model.summary()"
   ]
  },
  {
   "cell_type": "code",
   "execution_count": 119,
   "id": "c087afaa",
   "metadata": {},
   "outputs": [],
   "source": [
    "METRICS = [\n",
    "      tf.keras.metrics.BinaryAccuracy(name='accuracy'),\n",
    "      tf.keras.metrics.Precision(name='precision'),\n",
    "      tf.keras.metrics.Recall(name='recall')\n",
    "]\n",
    "\n",
    "model.compile(optimizer=tf.keras.optimizers.Adam(learning_rate=1e-5),\n",
    "             loss='binary_crossentropy',\n",
    "             metrics=METRICS)"
   ]
  },
  {
   "cell_type": "code",
   "execution_count": 120,
   "id": "2ee6e5bb",
   "metadata": {},
   "outputs": [
    {
     "data": {
      "text/plain": [
       "800"
      ]
     },
     "execution_count": 120,
     "metadata": {},
     "output_type": "execute_result"
    }
   ],
   "source": [
    "len(X_train)"
   ]
  },
  {
   "cell_type": "code",
   "execution_count": 121,
   "id": "3d704d58",
   "metadata": {},
   "outputs": [
    {
     "name": "stdout",
     "output_type": "stream",
     "text": [
      "Epoch 1/10\n",
      "25/25 [==============================] - 100s 4s/step - loss: 0.6826 - accuracy: 0.5638 - precision: 0.5662 - recall: 0.5076\n",
      "Epoch 2/10\n",
      "25/25 [==============================] - 91s 4s/step - loss: 0.6800 - accuracy: 0.5700 - precision: 0.5699 - recall: 0.5354\n",
      "Epoch 3/10\n",
      "25/25 [==============================] - 90s 4s/step - loss: 0.6813 - accuracy: 0.5537 - precision: 0.5481 - recall: 0.5606\n",
      "Epoch 4/10\n",
      "25/25 [==============================] - 97s 4s/step - loss: 0.6777 - accuracy: 0.5775 - precision: 0.5690 - recall: 0.6035\n",
      "Epoch 5/10\n",
      "25/25 [==============================] - 91s 4s/step - loss: 0.6785 - accuracy: 0.5763 - precision: 0.5807 - recall: 0.5177\n",
      "Epoch 6/10\n",
      "25/25 [==============================] - 92s 4s/step - loss: 0.6749 - accuracy: 0.5900 - precision: 0.5899 - recall: 0.5631\n",
      "Epoch 7/10\n",
      "25/25 [==============================] - 91s 4s/step - loss: 0.6762 - accuracy: 0.5838 - precision: 0.5797 - recall: 0.5783\n",
      "Epoch 8/10\n",
      "25/25 [==============================] - 91s 4s/step - loss: 0.6742 - accuracy: 0.5913 - precision: 0.5835 - recall: 0.6086\n",
      "Epoch 9/10\n",
      "25/25 [==============================] - 93s 4s/step - loss: 0.6709 - accuracy: 0.5975 - precision: 0.5873 - recall: 0.6288\n",
      "Epoch 10/10\n",
      "25/25 [==============================] - 91s 4s/step - loss: 0.6723 - accuracy: 0.6025 - precision: 0.5956 - recall: 0.6136\n"
     ]
    },
    {
     "data": {
      "text/plain": [
       "<keras.callbacks.History at 0x18bce6d3dc8>"
      ]
     },
     "execution_count": 121,
     "metadata": {},
     "output_type": "execute_result"
    }
   ],
   "source": [
    "model.fit(X_train, y_train, epochs=10)"
   ]
  },
  {
   "cell_type": "code",
   "execution_count": 122,
   "id": "287ef76a",
   "metadata": {},
   "outputs": [
    {
     "name": "stdout",
     "output_type": "stream",
     "text": [
      "7/7 [==============================] - 25s 3s/step - loss: 0.6709 - accuracy: 0.6350 - precision: 0.6703 - recall: 0.5865\n"
     ]
    },
    {
     "data": {
      "text/plain": [
       "[0.6708824634552002,\n",
       " 0.6349999904632568,\n",
       " 0.6703296899795532,\n",
       " 0.5865384340286255]"
      ]
     },
     "execution_count": 122,
     "metadata": {},
     "output_type": "execute_result"
    }
   ],
   "source": [
    "model.evaluate(X_test, y_test)"
   ]
  },
  {
   "cell_type": "code",
   "execution_count": 123,
   "id": "a3ccb51c",
   "metadata": {},
   "outputs": [
    {
     "name": "stdout",
     "output_type": "stream",
     "text": [
      "7/7 [==============================] - 27s 4s/step\n"
     ]
    }
   ],
   "source": [
    "y_predicted = model.predict(X_test)\n",
    "y_predicted = y_predicted.flatten()"
   ]
  },
  {
   "cell_type": "code",
   "execution_count": 124,
   "id": "96de8be1",
   "metadata": {},
   "outputs": [
    {
     "name": "stdout",
     "output_type": "stream",
     "text": [
      "[0.49474972 0.5454017  0.5630548  0.53567964 0.54411834 0.5717066\n",
      " 0.50964737 0.5001975  0.43225914 0.42470616 0.472039   0.45461407\n",
      " 0.52286863 0.46601132 0.52126193 0.48205134 0.5260349  0.57127166\n",
      " 0.4987757  0.54334956 0.5233706  0.60580957 0.40867627 0.53388286\n",
      " 0.458223   0.48188016 0.5229177  0.4801108  0.44698155 0.44077218\n",
      " 0.49690354 0.54852057 0.42665666 0.54259557 0.5180826  0.49006578\n",
      " 0.56029874 0.46847582 0.5267647  0.49131393 0.50543094 0.49524462\n",
      " 0.48630044 0.4728734  0.57796144 0.5159167  0.47175136 0.49628225\n",
      " 0.50759506 0.51568973 0.44701907 0.5887381  0.49861848 0.546936\n",
      " 0.4633671  0.54852855 0.47138527 0.5338267  0.4299064  0.4531015\n",
      " 0.49757195 0.426196   0.4209598  0.52462494 0.49575785 0.4422551\n",
      " 0.5526152  0.54328793 0.5392713  0.50229937 0.57171774 0.45442286\n",
      " 0.4966378  0.4124211  0.57000154 0.52906257 0.48631743 0.4375213\n",
      " 0.4489288  0.51480687 0.5178719  0.50773996 0.47459942 0.50900435\n",
      " 0.51756364 0.45819443 0.5350378  0.4734444  0.49392688 0.5351254\n",
      " 0.42023265 0.44222766 0.42888924 0.5294782  0.54864955 0.41870898\n",
      " 0.544082   0.52609605 0.4551696  0.5662501  0.51150346 0.40431672\n",
      " 0.42627525 0.4354884  0.51590955 0.50437725 0.42679498 0.4865082\n",
      " 0.47849783 0.41387394 0.5276257  0.48730642 0.5065242  0.4183035\n",
      " 0.5268219  0.5765234  0.46472162 0.44461152 0.44266132 0.49349493\n",
      " 0.48336217 0.46147504 0.5168898  0.45149848 0.4933045  0.47060937\n",
      " 0.5437725  0.5657332  0.447467   0.44154024 0.42052764 0.53065175\n",
      " 0.41784704 0.5362772  0.43422565 0.58672345 0.5215674  0.4561437\n",
      " 0.5371838  0.42614487 0.48181215 0.46500587 0.5167342  0.43363252\n",
      " 0.4972955  0.47576007 0.4862502  0.45901054 0.5087403  0.53608865\n",
      " 0.442521   0.4401146  0.46780288 0.50200564 0.43727353 0.53838545\n",
      " 0.45283797 0.41709036 0.4847491  0.48751912 0.518373   0.42902586\n",
      " 0.4773273  0.5050519  0.550536   0.5260642  0.4387078  0.5479819\n",
      " 0.6059478  0.464895   0.5309067  0.4602259  0.5773291  0.4293814\n",
      " 0.5466431  0.43597314 0.512726   0.545947   0.48312816 0.48209006\n",
      " 0.49728888 0.49516824 0.50630206 0.4178078  0.4392786  0.5103413\n",
      " 0.53378713 0.4919214  0.50603116 0.513987   0.5315378  0.55375993\n",
      " 0.42881668 0.4470314  0.4887024  0.43807516 0.54200655 0.4365056\n",
      " 0.5063817  0.54125243]\n",
      "521    1\n",
      "737    1\n",
      "740    1\n",
      "660    1\n",
      "411    1\n",
      "      ..\n",
      "408    1\n",
      "332    1\n",
      "208    0\n",
      "613    0\n",
      "78     1\n",
      "Name: Liked, Length: 200, dtype: int64\n"
     ]
    }
   ],
   "source": [
    "print(y_predicted)\n",
    "print (y_test)\n"
   ]
  },
  {
   "cell_type": "code",
   "execution_count": 125,
   "id": "ee9fe5bc",
   "metadata": {},
   "outputs": [
    {
     "name": "stdout",
     "output_type": "stream",
     "text": [
      "[0 1 1 1 1 1 1 1 0 0 0 0 1 0 1 0 1 1 0 1 1 1 0 1 0 0 1 0 0 0 0 1 0 1 1 0 1\n",
      " 0 1 0 1 0 0 0 1 1 0 0 1 1 0 1 0 1 0 1 0 1 0 0 0 0 0 1 0 0 1 1 1 1 1 0 0 0\n",
      " 1 1 0 0 0 1 1 1 0 1 1 0 1 0 0 1 0 0 0 1 1 0 1 1 0 1 1 0 0 0 1 1 0 0 0 0 1\n",
      " 0 1 0 1 1 0 0 0 0 0 0 1 0 0 0 1 1 0 0 0 1 0 1 0 1 1 0 1 0 0 0 1 0 0 0 0 0\n",
      " 1 1 0 0 0 1 0 1 0 0 0 0 1 0 0 1 1 1 0 1 1 0 1 0 1 0 1 0 1 1 0 0 0 0 1 0 0\n",
      " 1 1 0 1 1 1 1 0 0 0 0 1 0 1 1]\n"
     ]
    },
    {
     "data": {
      "text/plain": [
       "521    1\n",
       "737    1\n",
       "740    1\n",
       "660    1\n",
       "411    1\n",
       "      ..\n",
       "408    1\n",
       "332    1\n",
       "208    0\n",
       "613    0\n",
       "78     1\n",
       "Name: Liked, Length: 200, dtype: int64"
      ]
     },
     "execution_count": 125,
     "metadata": {},
     "output_type": "execute_result"
    }
   ],
   "source": [
    "import numpy as np\n",
    "y_pred = np.where(y_predicted>=0.5, 1 ,0)               \n",
    "print(y_pred)\n",
    "y_test"
   ]
  },
  {
   "cell_type": "code",
   "execution_count": 126,
   "id": "a70d7fe7",
   "metadata": {},
   "outputs": [
    {
     "name": "stdout",
     "output_type": "stream",
     "text": [
      "              precision    recall  f1-score   support\n",
      "\n",
      "           0       0.61      0.69      0.64        96\n",
      "           1       0.67      0.59      0.63       104\n",
      "\n",
      "    accuracy                           0.64       200\n",
      "   macro avg       0.64      0.64      0.63       200\n",
      "weighted avg       0.64      0.64      0.63       200\n",
      "\n"
     ]
    }
   ],
   "source": [
    "from sklearn.metrics import classification_report\n",
    "from sklearn.metrics import f1_score\n",
    "\n",
    "print(classification_report(y_test,y_pred))"
   ]
  },
  {
   "cell_type": "code",
   "execution_count": 127,
   "id": "31ad1070",
   "metadata": {},
   "outputs": [
    {
     "data": {
      "text/plain": [
       "array([[66, 30],\n",
       "       [43, 61]], dtype=int64)"
      ]
     },
     "execution_count": 127,
     "metadata": {},
     "output_type": "execute_result"
    }
   ],
   "source": [
    "from sklearn.metrics import confusion_matrix, classification_report\n",
    "\n",
    "cm = confusion_matrix(y_test, y_pred)\n",
    "cm "
   ]
  },
  {
   "cell_type": "code",
   "execution_count": 128,
   "id": "8181d215",
   "metadata": {},
   "outputs": [
    {
     "data": {
      "text/plain": [
       "Text(50.722222222222214, 0.5, 'Truth')"
      ]
     },
     "execution_count": 128,
     "metadata": {},
     "output_type": "execute_result"
    },
    {
     "data": {
      "image/png": "[encoded data removed]",
      "text/plain": [
       "<Figure size 640x480 with 2 Axes>"
      ]
     },
     "metadata": {},
     "output_type": "display_data"
    }
   ],
   "source": [
    "from matplotlib import pyplot as plt\n",
    "import seaborn as sn\n",
    "sn.heatmap(cm, annot=True, fmt='d')\n",
    "plt.xlabel('Predicted')\n",
    "plt.ylabel('Truth')"
   ]
  },
  {
   "cell_type": "code",
   "execution_count": 131,
   "id": "f5574dba",
   "metadata": {},
   "outputs": [
    {
     "name": "stdout",
     "output_type": "stream",
     "text": [
      "1/1 [==============================] - 1s 782ms/step\n",
      "[[0]\n",
      " [1]\n",
      " [0]\n",
      " [1]\n",
      " [0]\n",
      " [1]\n",
      " [1]]\n"
     ]
    }
   ],
   "source": [
    "reviews = [\n",
    "    'The food was horrible and the waiter was rude',\n",
    "    'I liked the vibe of the restaurant',\n",
    "    'I am not coming back ever again',\n",
    "    'I will come back',\n",
    "    'I waited for one hour then I left',\n",
    "    'The  waiter was really nice to me',\n",
    "    'I am definitely coming back'\n",
    "]\n",
    "z= model.predict(reviews)\n",
    "z= np.where(z<=0.5, 1 ,0) \n",
    "print (z)"
   ]
  }
 ],
 "metadata": {
  "kernelspec": {
   "display_name": "Python 3 (ipykernel)",
   "language": "python",
   "name": "python3"
  },
  "language_info": {
   "codemirror_mode": {
    "name": "ipython",
    "version": 3
   },
   "file_extension": ".py",
   "mimetype": "text/x-python",
   "name": "python",
   "nbconvert_exporter": "python",
   "pygments_lexer": "ipython3",
   "version": "3.7.16"
  }
 },
 "nbformat": 4,
 "nbformat_minor": 5
}
