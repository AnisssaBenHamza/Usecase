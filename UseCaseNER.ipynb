{
 "cells": [
  {
   "cell_type": "markdown",
   "id": "9000c922",
   "metadata": {},
   "source": [
    "This document is created to explore the Name entity recognition model before implementing it to the final algorithm"
   ]
  },
  {
   "cell_type": "code",
   "execution_count": 1,
   "id": "5fbfb94d",
   "metadata": {},
   "outputs": [],
   "source": [
    "#Importing Libraries \n",
    "\n",
    "import spacy\n",
    "import re\n",
    "from spacy.tokens import DocBin\n",
    "from tqdm import tqdm\n",
    "import json\n",
    "from spacy.cli.train import train\n"
   ]
  },
  {
   "cell_type": "code",
   "execution_count": 2,
   "id": "8f807925",
   "metadata": {},
   "outputs": [],
   "source": [
    "# loading a new spacy model\n",
    "nlp = spacy.blank(\"en\") \n",
    "\n",
    "# create a DocBin object\n",
    "db = DocBin()\n",
    "\n",
    "#Opening and loading the data json file\n",
    "f = open('training_NER.json')\n",
    "TRAIN_DATA = json.load(f)"
   ]
  },
  {
   "cell_type": "markdown",
   "id": "d499b1d8",
   "metadata": {},
   "source": [
    "Now we will processes the training data, convert it into spaCy Doc objects with annotated entities, and then save these documents in a spaCy DocBin format for training a Named Entity Recognition (NER) model"
   ]
  },
  {
   "cell_type": "code",
   "execution_count": 3,
   "id": "caf82290",
   "metadata": {},
   "outputs": [
    {
     "name": "stderr",
     "output_type": "stream",
     "text": [
      "100%|██████████| 13/13 [00:00<00:00, 1405.74it/s]\n"
     ]
    }
   ],
   "source": [
    "for text, annot in tqdm(TRAIN_DATA['annotations']): \n",
    "    #Creating a spaCy Doc object from the input text.\n",
    "    doc = nlp.make_doc(text)\n",
    "    #Creating spacy objects for each entity\n",
    "    ents = []\n",
    "    for start, end, label in annot[\"entities\"]:\n",
    "        span = doc.char_span(start, end, label=label, alignment_mode=\"contract\")\n",
    "        if span is None:\n",
    "            # skipping entity if span is empty \n",
    "            print(\"Skipping entity\")\n",
    "        else:\n",
    "            #Adding the span to the list of entities\n",
    "            ents.append(span)\n",
    "    doc.ents = ents \n",
    "    db.add(doc)\n",
    "# save the docbin object\n",
    "db.to_disk(\"./training_data.spacy\") "
   ]
  },
  {
   "cell_type": "code",
   "execution_count": 4,
   "id": "d3592a92",
   "metadata": {},
   "outputs": [],
   "source": [
    "#! python -m spacy init config config.cfg --lang en --pipeline ner --optimize efficiency "
   ]
  },
  {
   "cell_type": "code",
   "execution_count": 30,
   "id": "4ecdd9ff",
   "metadata": {},
   "outputs": [
    {
     "name": "stdout",
     "output_type": "stream",
     "text": [
      "\u001b[38;5;4m[i] Saving to output directory: .\u001b[0m\n",
      "\u001b[38;5;4m[i] Using CPU\u001b[0m\n",
      "\u001b[1m\n",
      "=========================== Initializing pipeline ===========================\u001b[0m\n",
      "\u001b[38;5;2m[+] Initialized pipeline\u001b[0m\n",
      "\u001b[1m\n",
      "============================= Training pipeline =============================\u001b[0m\n",
      "\u001b[38;5;4m[i] Pipeline: ['tok2vec', 'ner']\u001b[0m\n",
      "\u001b[38;5;4m[i] Initial learn rate: 0.001\u001b[0m\n",
      "E    #       LOSS TOK2VEC  LOSS NER  ENTS_F  ENTS_P  ENTS_R  SCORE \n",
      "---  ------  ------------  --------  ------  ------  ------  ------\n",
      "  0       0          0.00     45.21    0.00    0.00    0.00    0.00\n",
      " 33     200        191.76   1222.34  100.00  100.00  100.00    1.00\n",
      " 75     400          0.00      0.00  100.00  100.00  100.00    1.00\n",
      "126     600          0.82      0.27  100.00  100.00  100.00    1.00\n",
      "191     800          0.00      0.00  100.00  100.00  100.00    1.00\n",
      "266    1000          0.00      0.00  100.00  100.00  100.00    1.00\n",
      "366    1200          0.00      0.00  100.00  100.00  100.00    1.00\n",
      "466    1400          0.00      0.00  100.00  100.00  100.00    1.00\n",
      "613    1600          0.00      0.00  100.00  100.00  100.00    1.00\n",
      "813    1800          0.00      0.00  100.00  100.00  100.00    1.00\n",
      "\u001b[38;5;2m[+] Saved pipeline to output directory\u001b[0m\n",
      "model-last\n"
     ]
    }
   ],
   "source": [
    "#Let's start our training\n",
    "! python -m spacy train config.cfg --output ./ --paths.train ./training_data.spacy --paths.dev ./training_data.spacy"
   ]
  },
  {
   "cell_type": "code",
   "execution_count": 31,
   "id": "38ae7f10",
   "metadata": {},
   "outputs": [],
   "source": [
    "nlp_ner = spacy.load(\"model-best\") "
   ]
  },
  {
   "cell_type": "code",
   "execution_count": 32,
   "id": "015c3326",
   "metadata": {},
   "outputs": [],
   "source": [
    "doc = nlp_ner('''the waiter had no business being aggressive with me. plus the food was trash i got very sick\n",
    "''')"
   ]
  },
  {
   "cell_type": "code",
   "execution_count": 39,
   "id": "021c94e4",
   "metadata": {},
   "outputs": [
    {
     "data": {
      "text/html": [
       "<span class=\"tex2jax_ignore\"><div class=\"entities\" style=\"line-height: 2.5; direction: ltr\">the waiter had no business being \n",
       "<mark class=\"entity\" style=\"background: #ddd; padding: 0.45em 0.6em; margin: 0 0.25em; line-height: 1; border-radius: 0.35em;\">\n",
       "    aggressive\n",
       "    <span style=\"font-size: 0.8em; font-weight: bold; line-height: 1; border-radius: 0.35em; vertical-align: middle; margin-left: 0.5rem\">LEGAL_ISSUES</span>\n",
       "</mark>\n",
       " with me. plus the food was trash i got very \n",
       "<mark class=\"entity\" style=\"background: #ddd; padding: 0.45em 0.6em; margin: 0 0.25em; line-height: 1; border-radius: 0.35em;\">\n",
       "    sick\n",
       "    <span style=\"font-size: 0.8em; font-weight: bold; line-height: 1; border-radius: 0.35em; vertical-align: middle; margin-left: 0.5rem\">HEALTH_ISSUE</span>\n",
       "</mark>\n",
       "<br></div></span>"
      ],
      "text/plain": [
       "<IPython.core.display.HTML object>"
      ]
     },
     "metadata": {},
     "output_type": "display_data"
    },
    {
     "name": "stdout",
     "output_type": "stream",
     "text": [
      "{'aggressive': 'LEGAL_ISSUES', 'sick': 'HEALTH_ISSUE'}\n"
     ]
    }
   ],
   "source": [
    "spacy.displacy.render(doc, style=\"ent\", jupyter=True) # display in Jupyter\n",
    "\n",
    "# Create a dictionary from the entities\n",
    "entity_dict = {}\n",
    "for ent in doc.ents:\n",
    "    entity_dict[ent.text] = ent.label_\n",
    "\n",
    "# Print the dictionary\n",
    "print(entity_dict)\n"
   ]
  }
 ],
 "metadata": {
  "kernelspec": {
   "display_name": "Python 3 (ipykernel)",
   "language": "python",
   "name": "python3"
  },
  "language_info": {
   "codemirror_mode": {
    "name": "ipython",
    "version": 3
   },
   "file_extension": ".py",
   "mimetype": "text/x-python",
   "name": "python",
   "nbconvert_exporter": "python",
   "pygments_lexer": "ipython3",
   "version": "3.7.16"
  }
 },
 "nbformat": 4,
 "nbformat_minor": 5
}
